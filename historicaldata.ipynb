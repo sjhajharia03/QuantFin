{
 "cells": [
  {
   "cell_type": "code",
   "execution_count": 1,
   "id": "aca86765-4ec1-4bcf-a2d2-5ecad960fda4",
   "metadata": {},
   "outputs": [
    {
     "name": "stdout",
     "output_type": "stream",
     "text": [
      "Requirement already satisfied: pandas in /opt/anaconda3/lib/python3.12/site-packages (2.2.2)\n",
      "Requirement already satisfied: numpy in /opt/anaconda3/lib/python3.12/site-packages (1.26.4)\n",
      "Requirement already satisfied: scipy in /opt/anaconda3/lib/python3.12/site-packages (1.13.1)\n",
      "Requirement already satisfied: yfinance in /opt/anaconda3/lib/python3.12/site-packages (0.2.62)\n",
      "Collecting quantstats\n",
      "  Downloading QuantStats-0.0.64-py2.py3-none-any.whl.metadata (8.9 kB)\n",
      "Requirement already satisfied: python-dateutil>=2.8.2 in /opt/anaconda3/lib/python3.12/site-packages (from pandas) (2.9.0.post0)\n",
      "Requirement already satisfied: pytz>=2020.1 in /opt/anaconda3/lib/python3.12/site-packages (from pandas) (2024.1)\n",
      "Requirement already satisfied: tzdata>=2022.7 in /opt/anaconda3/lib/python3.12/site-packages (from pandas) (2023.3)\n",
      "Requirement already satisfied: requests>=2.31 in /opt/anaconda3/lib/python3.12/site-packages (from yfinance) (2.32.2)\n",
      "Requirement already satisfied: multitasking>=0.0.7 in /opt/anaconda3/lib/python3.12/site-packages (from yfinance) (0.0.11)\n",
      "Requirement already satisfied: platformdirs>=2.0.0 in /opt/anaconda3/lib/python3.12/site-packages (from yfinance) (3.10.0)\n",
      "Requirement already satisfied: frozendict>=2.3.4 in /opt/anaconda3/lib/python3.12/site-packages (from yfinance) (2.4.2)\n",
      "Requirement already satisfied: peewee>=3.16.2 in /opt/anaconda3/lib/python3.12/site-packages (from yfinance) (3.18.1)\n",
      "Requirement already satisfied: beautifulsoup4>=4.11.1 in /opt/anaconda3/lib/python3.12/site-packages (from yfinance) (4.12.3)\n",
      "Requirement already satisfied: curl_cffi>=0.7 in /opt/anaconda3/lib/python3.12/site-packages (from yfinance) (0.11.3)\n",
      "Requirement already satisfied: protobuf>=3.19.0 in /opt/anaconda3/lib/python3.12/site-packages (from yfinance) (3.20.3)\n",
      "Requirement already satisfied: websockets>=13.0 in /opt/anaconda3/lib/python3.12/site-packages (from yfinance) (15.0.1)\n",
      "Requirement already satisfied: seaborn>=0.9.0 in /opt/anaconda3/lib/python3.12/site-packages (from quantstats) (0.13.2)\n",
      "Requirement already satisfied: matplotlib>=3.0.0 in /opt/anaconda3/lib/python3.12/site-packages (from quantstats) (3.8.4)\n",
      "Requirement already satisfied: tabulate>=0.8.0 in /opt/anaconda3/lib/python3.12/site-packages (from quantstats) (0.9.0)\n",
      "Requirement already satisfied: soupsieve>1.2 in /opt/anaconda3/lib/python3.12/site-packages (from beautifulsoup4>=4.11.1->yfinance) (2.5)\n",
      "Requirement already satisfied: cffi>=1.12.0 in /opt/anaconda3/lib/python3.12/site-packages (from curl_cffi>=0.7->yfinance) (1.16.0)\n",
      "Requirement already satisfied: certifi>=2024.2.2 in /opt/anaconda3/lib/python3.12/site-packages (from curl_cffi>=0.7->yfinance) (2025.4.26)\n",
      "Requirement already satisfied: contourpy>=1.0.1 in /opt/anaconda3/lib/python3.12/site-packages (from matplotlib>=3.0.0->quantstats) (1.2.0)\n",
      "Requirement already satisfied: cycler>=0.10 in /opt/anaconda3/lib/python3.12/site-packages (from matplotlib>=3.0.0->quantstats) (0.11.0)\n",
      "Requirement already satisfied: fonttools>=4.22.0 in /opt/anaconda3/lib/python3.12/site-packages (from matplotlib>=3.0.0->quantstats) (4.51.0)\n",
      "Requirement already satisfied: kiwisolver>=1.3.1 in /opt/anaconda3/lib/python3.12/site-packages (from matplotlib>=3.0.0->quantstats) (1.4.4)\n",
      "Requirement already satisfied: packaging>=20.0 in /opt/anaconda3/lib/python3.12/site-packages (from matplotlib>=3.0.0->quantstats) (23.2)\n",
      "Requirement already satisfied: pillow>=8 in /opt/anaconda3/lib/python3.12/site-packages (from matplotlib>=3.0.0->quantstats) (10.3.0)\n",
      "Requirement already satisfied: pyparsing>=2.3.1 in /opt/anaconda3/lib/python3.12/site-packages (from matplotlib>=3.0.0->quantstats) (3.0.9)\n",
      "Requirement already satisfied: six>=1.5 in /opt/anaconda3/lib/python3.12/site-packages (from python-dateutil>=2.8.2->pandas) (1.16.0)\n",
      "Requirement already satisfied: charset-normalizer<4,>=2 in /opt/anaconda3/lib/python3.12/site-packages (from requests>=2.31->yfinance) (2.0.4)\n",
      "Requirement already satisfied: idna<4,>=2.5 in /opt/anaconda3/lib/python3.12/site-packages (from requests>=2.31->yfinance) (3.7)\n",
      "Requirement already satisfied: urllib3<3,>=1.21.1 in /opt/anaconda3/lib/python3.12/site-packages (from requests>=2.31->yfinance) (2.2.2)\n",
      "Requirement already satisfied: pycparser in /opt/anaconda3/lib/python3.12/site-packages (from cffi>=1.12.0->curl_cffi>=0.7->yfinance) (2.21)\n",
      "Downloading QuantStats-0.0.64-py2.py3-none-any.whl (45 kB)\n",
      "\u001b[2K   \u001b[90m━━━━━━━━━━━━━━━━━━━━━━━━━━━━━━━━━━━━━━━━\u001b[0m \u001b[32m45.8/45.8 kB\u001b[0m \u001b[31m2.8 MB/s\u001b[0m eta \u001b[36m0:00:00\u001b[0m\n",
      "\u001b[?25hInstalling collected packages: quantstats\n",
      "Successfully installed quantstats-0.0.64\n",
      "Note: you may need to restart the kernel to use updated packages.\n"
     ]
    }
   ],
   "source": [
    "pip install pandas numpy scipy yfinance quantstats"
   ]
  },
  {
   "cell_type": "code",
   "execution_count": 4,
   "id": "ab13f100-7a89-4ff5-ab0d-d52d7936888a",
   "metadata": {},
   "outputs": [],
   "source": [
    "import yfinance as yf \n",
    "import pandas as pd \n",
    "from datetime import datetime, timedelta"
   ]
  },
  {
   "cell_type": "code",
   "execution_count": 6,
   "id": "33e2c63b-e3d9-46f2-a31b-cac6d7890dae",
   "metadata": {},
   "outputs": [],
   "source": [
    "TICKER_SYMBOL = 'SPY'\n",
    "START_DATE = '2023-01-01'\n",
    "END_DATE = '2024-12-31'\n",
    "OUTPUT_CSV_FILE = f'spy_options_historical_{START_DATE}_to_{END_DATE}.csv'"
   ]
  },
  {
   "cell_type": "code",
   "execution_count": 26,
   "id": "9cadecea-feae-4474-bd3c-1ec27be5bfab",
   "metadata": {},
   "outputs": [
    {
     "name": "stdout",
     "output_type": "stream",
     "text": [
      "Starting historical data acquisition...\n",
      "Fetching data for: 2023-01-02\n"
     ]
    },
    {
     "name": "stderr",
     "output_type": "stream",
     "text": [
      "$SPY: possibly delisted; no price data found  (1d 2023-01-02 00:00:00 -> 2023-01-03 00:00:00)\n"
     ]
    },
    {
     "name": "stdout",
     "output_type": "stream",
     "text": [
      "  -> No data found for 2023-01-02.\n",
      "Fetching data for: 2023-01-03\n",
      "Fetching data for: 2023-01-04\n",
      "Fetching data for: 2023-01-05\n",
      "Fetching data for: 2023-01-06\n",
      "Fetching data for: 2023-01-09\n",
      "Fetching data for: 2023-01-10\n",
      "Fetching data for: 2023-01-11\n",
      "Fetching data for: 2023-01-12\n",
      "Fetching data for: 2023-01-13\n"
     ]
    },
    {
     "name": "stderr",
     "output_type": "stream",
     "text": [
      "$SPY: possibly delisted; no price data found  (1d 2023-01-16 00:00:00 -> 2023-01-17 00:00:00)\n"
     ]
    },
    {
     "name": "stdout",
     "output_type": "stream",
     "text": [
      "Fetching data for: 2023-01-16\n",
      "  -> No data found for 2023-01-16.\n",
      "Fetching data for: 2023-01-17\n",
      "Fetching data for: 2023-01-18\n",
      "Fetching data for: 2023-01-19\n",
      "Fetching data for: 2023-01-20\n",
      "Fetching data for: 2023-01-23\n",
      "Fetching data for: 2023-01-24\n",
      "Fetching data for: 2023-01-25\n",
      "Fetching data for: 2023-01-26\n",
      "Fetching data for: 2023-01-27\n",
      "Fetching data for: 2023-01-30\n",
      "Fetching data for: 2023-01-31\n",
      "Fetching data for: 2023-02-01\n",
      "Fetching data for: 2023-02-02\n",
      "Fetching data for: 2023-02-03\n",
      "Fetching data for: 2023-02-06\n",
      "Fetching data for: 2023-02-07\n",
      "Fetching data for: 2023-02-08\n",
      "Fetching data for: 2023-02-09\n",
      "Fetching data for: 2023-02-10\n",
      "Fetching data for: 2023-02-13\n",
      "Fetching data for: 2023-02-14\n",
      "Fetching data for: 2023-02-15\n",
      "Fetching data for: 2023-02-16\n",
      "Fetching data for: 2023-02-17\n"
     ]
    },
    {
     "name": "stderr",
     "output_type": "stream",
     "text": [
      "$SPY: possibly delisted; no price data found  (1d 2023-02-20 00:00:00 -> 2023-02-21 00:00:00)\n"
     ]
    },
    {
     "name": "stdout",
     "output_type": "stream",
     "text": [
      "Fetching data for: 2023-02-20\n",
      "  -> No data found for 2023-02-20.\n",
      "Fetching data for: 2023-02-21\n",
      "Fetching data for: 2023-02-22\n",
      "Fetching data for: 2023-02-23\n",
      "Fetching data for: 2023-02-24\n",
      "Fetching data for: 2023-02-27\n",
      "Fetching data for: 2023-02-28\n",
      "Fetching data for: 2023-03-01\n",
      "Fetching data for: 2023-03-02\n",
      "Fetching data for: 2023-03-03\n",
      "Fetching data for: 2023-03-06\n",
      "Fetching data for: 2023-03-07\n",
      "Fetching data for: 2023-03-08\n",
      "Fetching data for: 2023-03-09\n",
      "Fetching data for: 2023-03-10\n",
      "Fetching data for: 2023-03-13\n",
      "Fetching data for: 2023-03-14\n",
      "Fetching data for: 2023-03-15\n",
      "Fetching data for: 2023-03-16\n",
      "Fetching data for: 2023-03-17\n",
      "Fetching data for: 2023-03-20\n",
      "Fetching data for: 2023-03-21\n",
      "Fetching data for: 2023-03-22\n",
      "Fetching data for: 2023-03-23\n",
      "Fetching data for: 2023-03-24\n",
      "Fetching data for: 2023-03-27\n",
      "Fetching data for: 2023-03-28\n",
      "Fetching data for: 2023-03-29\n",
      "Fetching data for: 2023-03-30\n",
      "Fetching data for: 2023-03-31\n",
      "  -> An error occurred for 2023-03-31: Failed to perform, curl: (28) Operation timed out after 79831 milliseconds with 0 bytes received. See https://curl.se/libcurl/c/libcurl-errors.html first for more details.\n",
      "Fetching data for: 2023-04-03\n"
     ]
    },
    {
     "name": "stderr",
     "output_type": "stream",
     "text": [
      "$SPY: possibly delisted; no price data found  (1d 2023-04-03 00:00:00 -> 2023-04-04 00:00:00)\n"
     ]
    },
    {
     "name": "stdout",
     "output_type": "stream",
     "text": [
      "  -> No data found for 2023-04-03.\n",
      "Fetching data for: 2023-04-04\n"
     ]
    },
    {
     "name": "stderr",
     "output_type": "stream",
     "text": [
      "$SPY: possibly delisted; no price data found  (1d 2023-04-04 00:00:00 -> 2023-04-05 00:00:00)\n"
     ]
    },
    {
     "name": "stdout",
     "output_type": "stream",
     "text": [
      "  -> No data found for 2023-04-04.\n",
      "Fetching data for: 2023-04-05\n"
     ]
    },
    {
     "name": "stderr",
     "output_type": "stream",
     "text": [
      "$SPY: possibly delisted; no price data found  (1d 2023-04-05 00:00:00 -> 2023-04-06 00:00:00)\n"
     ]
    },
    {
     "name": "stdout",
     "output_type": "stream",
     "text": [
      "  -> No data found for 2023-04-05.\n",
      "Fetching data for: 2023-04-06\n"
     ]
    },
    {
     "name": "stderr",
     "output_type": "stream",
     "text": [
      "$SPY: possibly delisted; no price data found  (1d 2023-04-07 00:00:00 -> 2023-04-08 00:00:00)\n"
     ]
    },
    {
     "name": "stdout",
     "output_type": "stream",
     "text": [
      "Fetching data for: 2023-04-07\n",
      "  -> No data found for 2023-04-07.\n",
      "Fetching data for: 2023-04-10\n",
      "Fetching data for: 2023-04-11\n",
      "Fetching data for: 2023-04-12\n",
      "Fetching data for: 2023-04-13\n",
      "Fetching data for: 2023-04-14\n",
      "Fetching data for: 2023-04-17\n",
      "Fetching data for: 2023-04-18\n",
      "Fetching data for: 2023-04-19\n",
      "Fetching data for: 2023-04-20\n",
      "Fetching data for: 2023-04-21\n",
      "Fetching data for: 2023-04-24\n",
      "Fetching data for: 2023-04-25\n",
      "Fetching data for: 2023-04-26\n",
      "Fetching data for: 2023-04-27\n",
      "Fetching data for: 2023-04-28\n",
      "Fetching data for: 2023-05-01\n",
      "Fetching data for: 2023-05-02\n",
      "Fetching data for: 2023-05-03\n",
      "Fetching data for: 2023-05-04\n",
      "Fetching data for: 2023-05-05\n",
      "Fetching data for: 2023-05-08\n",
      "Fetching data for: 2023-05-09\n",
      "Fetching data for: 2023-05-10\n",
      "Fetching data for: 2023-05-11\n",
      "Fetching data for: 2023-05-12\n",
      "Fetching data for: 2023-05-15\n",
      "Fetching data for: 2023-05-16\n",
      "Fetching data for: 2023-05-17\n",
      "Fetching data for: 2023-05-18\n",
      "Fetching data for: 2023-05-19\n",
      "Fetching data for: 2023-05-22\n",
      "Fetching data for: 2023-05-23\n",
      "Fetching data for: 2023-05-24\n",
      "Fetching data for: 2023-05-25\n",
      "Fetching data for: 2023-05-26\n",
      "Fetching data for: 2023-05-29\n"
     ]
    },
    {
     "name": "stderr",
     "output_type": "stream",
     "text": [
      "$SPY: possibly delisted; no price data found  (1d 2023-05-29 00:00:00 -> 2023-05-30 00:00:00)\n"
     ]
    },
    {
     "name": "stdout",
     "output_type": "stream",
     "text": [
      "  -> No data found for 2023-05-29.\n",
      "Fetching data for: 2023-05-30\n",
      "Fetching data for: 2023-05-31\n",
      "Fetching data for: 2023-06-01\n",
      "Fetching data for: 2023-06-02\n",
      "Fetching data for: 2023-06-05\n",
      "Fetching data for: 2023-06-06\n",
      "Fetching data for: 2023-06-07\n",
      "Fetching data for: 2023-06-08\n",
      "Fetching data for: 2023-06-09\n",
      "  -> An error occurred for 2023-06-09: Failed to perform, curl: (28) Operation timed out after 144245 milliseconds with 0 bytes received. See https://curl.se/libcurl/c/libcurl-errors.html first for more details.\n",
      "Fetching data for: 2023-06-12\n",
      "Fetching data for: 2023-06-13\n",
      "Fetching data for: 2023-06-14\n",
      "Fetching data for: 2023-06-15\n",
      "Fetching data for: 2023-06-16\n"
     ]
    },
    {
     "name": "stderr",
     "output_type": "stream",
     "text": [
      "$SPY: possibly delisted; no price data found  (1d 2023-06-19 00:00:00 -> 2023-06-20 00:00:00)\n"
     ]
    },
    {
     "name": "stdout",
     "output_type": "stream",
     "text": [
      "Fetching data for: 2023-06-19\n",
      "  -> No data found for 2023-06-19.\n",
      "Fetching data for: 2023-06-20\n",
      "Fetching data for: 2023-06-21\n",
      "Fetching data for: 2023-06-22\n",
      "Fetching data for: 2023-06-23\n",
      "Fetching data for: 2023-06-26\n",
      "Fetching data for: 2023-06-27\n",
      "Fetching data for: 2023-06-28\n",
      "Fetching data for: 2023-06-29\n",
      "Fetching data for: 2023-06-30\n",
      "Fetching data for: 2023-07-03\n"
     ]
    },
    {
     "name": "stderr",
     "output_type": "stream",
     "text": [
      "$SPY: possibly delisted; no price data found  (1d 2023-07-04 00:00:00 -> 2023-07-05 00:00:00)\n"
     ]
    },
    {
     "name": "stdout",
     "output_type": "stream",
     "text": [
      "Fetching data for: 2023-07-04\n",
      "  -> No data found for 2023-07-04.\n",
      "Fetching data for: 2023-07-05\n",
      "Fetching data for: 2023-07-06\n",
      "Fetching data for: 2023-07-07\n",
      "Fetching data for: 2023-07-10\n",
      "Fetching data for: 2023-07-11\n",
      "Fetching data for: 2023-07-12\n",
      "Fetching data for: 2023-07-13\n",
      "Fetching data for: 2023-07-14\n",
      "Fetching data for: 2023-07-17\n",
      "Fetching data for: 2023-07-18\n",
      "Fetching data for: 2023-07-19\n",
      "Fetching data for: 2023-07-20\n",
      "Fetching data for: 2023-07-21\n",
      "Fetching data for: 2023-07-24\n",
      "Fetching data for: 2023-07-25\n",
      "Fetching data for: 2023-07-26\n",
      "Fetching data for: 2023-07-27\n",
      "Fetching data for: 2023-07-28\n",
      "Fetching data for: 2023-07-31\n",
      "Fetching data for: 2023-08-01\n",
      "Fetching data for: 2023-08-02\n",
      "Fetching data for: 2023-08-03\n",
      "Fetching data for: 2023-08-04\n",
      "Fetching data for: 2023-08-07\n",
      "Fetching data for: 2023-08-08\n",
      "Fetching data for: 2023-08-09\n",
      "Fetching data for: 2023-08-10\n",
      "Fetching data for: 2023-08-11\n",
      "Fetching data for: 2023-08-14\n",
      "Fetching data for: 2023-08-15\n",
      "Fetching data for: 2023-08-16\n",
      "Fetching data for: 2023-08-17\n",
      "Fetching data for: 2023-08-18\n",
      "Fetching data for: 2023-08-21\n",
      "Fetching data for: 2023-08-22\n",
      "Fetching data for: 2023-08-23\n",
      "Fetching data for: 2023-08-24\n",
      "Fetching data for: 2023-08-25\n",
      "Fetching data for: 2023-08-28\n",
      "Fetching data for: 2023-08-29\n",
      "Fetching data for: 2023-08-30\n",
      "Fetching data for: 2023-08-31\n",
      "Fetching data for: 2023-09-01\n"
     ]
    },
    {
     "name": "stderr",
     "output_type": "stream",
     "text": [
      "$SPY: possibly delisted; no price data found  (1d 2023-09-04 00:00:00 -> 2023-09-05 00:00:00)\n"
     ]
    },
    {
     "name": "stdout",
     "output_type": "stream",
     "text": [
      "Fetching data for: 2023-09-04\n",
      "  -> No data found for 2023-09-04.\n",
      "Fetching data for: 2023-09-05\n",
      "Fetching data for: 2023-09-06\n",
      "Fetching data for: 2023-09-07\n",
      "Fetching data for: 2023-09-08\n",
      "Fetching data for: 2023-09-11\n",
      "Fetching data for: 2023-09-12\n",
      "Fetching data for: 2023-09-13\n",
      "Fetching data for: 2023-09-14\n",
      "Fetching data for: 2023-09-15\n",
      "Fetching data for: 2023-09-18\n",
      "Fetching data for: 2023-09-19\n",
      "Fetching data for: 2023-09-20\n",
      "Fetching data for: 2023-09-21\n",
      "Fetching data for: 2023-09-22\n",
      "Fetching data for: 2023-09-25\n",
      "Fetching data for: 2023-09-26\n",
      "Fetching data for: 2023-09-27\n",
      "Fetching data for: 2023-09-28\n",
      "Fetching data for: 2023-09-29\n",
      "  -> An error occurred for 2023-09-29: Failed to perform, curl: (28) Operation timed out after 43432 milliseconds with 0 bytes received. See https://curl.se/libcurl/c/libcurl-errors.html first for more details.\n",
      "Fetching data for: 2023-10-02\n"
     ]
    },
    {
     "name": "stderr",
     "output_type": "stream",
     "text": [
      "$SPY: possibly delisted; no price data found  (1d 2023-10-02 00:00:00 -> 2023-10-03 00:00:00)\n"
     ]
    },
    {
     "name": "stdout",
     "output_type": "stream",
     "text": [
      "  -> No data found for 2023-10-02.\n",
      "Fetching data for: 2023-10-03\n",
      "Fetching data for: 2023-10-04\n",
      "Fetching data for: 2023-10-05\n",
      "Fetching data for: 2023-10-06\n",
      "Fetching data for: 2023-10-09\n",
      "Fetching data for: 2023-10-10\n",
      "Fetching data for: 2023-10-11\n",
      "Fetching data for: 2023-10-12\n",
      "Fetching data for: 2023-10-13\n",
      "Fetching data for: 2023-10-16\n",
      "Fetching data for: 2023-10-17\n",
      "Fetching data for: 2023-10-18\n",
      "Fetching data for: 2023-10-19\n",
      "Fetching data for: 2023-10-20\n",
      "Fetching data for: 2023-10-23\n",
      "Fetching data for: 2023-10-24\n",
      "Fetching data for: 2023-10-25\n",
      "Fetching data for: 2023-10-26\n",
      "Fetching data for: 2023-10-27\n",
      "Fetching data for: 2023-10-30\n",
      "Fetching data for: 2023-10-31\n",
      "Fetching data for: 2023-11-01\n",
      "Fetching data for: 2023-11-02\n",
      "Fetching data for: 2023-11-03\n",
      "Fetching data for: 2023-11-06\n",
      "Fetching data for: 2023-11-07\n",
      "Fetching data for: 2023-11-08\n",
      "Fetching data for: 2023-11-09\n",
      "Fetching data for: 2023-11-10\n",
      "Fetching data for: 2023-11-13\n",
      "Fetching data for: 2023-11-14\n",
      "Fetching data for: 2023-11-15\n",
      "Fetching data for: 2023-11-16\n",
      "Fetching data for: 2023-11-17\n",
      "Fetching data for: 2023-11-20\n",
      "Fetching data for: 2023-11-21\n",
      "Fetching data for: 2023-11-22\n"
     ]
    },
    {
     "name": "stderr",
     "output_type": "stream",
     "text": [
      "$SPY: possibly delisted; no price data found  (1d 2023-11-23 00:00:00 -> 2023-11-24 00:00:00)\n"
     ]
    },
    {
     "name": "stdout",
     "output_type": "stream",
     "text": [
      "Fetching data for: 2023-11-23\n",
      "  -> No data found for 2023-11-23.\n",
      "Fetching data for: 2023-11-24\n",
      "Fetching data for: 2023-11-27\n",
      "Fetching data for: 2023-11-28\n",
      "Fetching data for: 2023-11-29\n",
      "Fetching data for: 2023-11-30\n",
      "Fetching data for: 2023-12-01\n",
      "Fetching data for: 2023-12-04\n",
      "Fetching data for: 2023-12-05\n",
      "Fetching data for: 2023-12-06\n",
      "Fetching data for: 2023-12-07\n",
      "Fetching data for: 2023-12-08\n",
      "Fetching data for: 2023-12-11\n",
      "Fetching data for: 2023-12-12\n",
      "Fetching data for: 2023-12-13\n",
      "Fetching data for: 2023-12-14\n",
      "Fetching data for: 2023-12-15\n",
      "Fetching data for: 2023-12-18\n",
      "Fetching data for: 2023-12-19\n",
      "Fetching data for: 2023-12-20\n",
      "Fetching data for: 2023-12-21\n",
      "Fetching data for: 2023-12-22\n"
     ]
    },
    {
     "name": "stderr",
     "output_type": "stream",
     "text": [
      "$SPY: possibly delisted; no price data found  (1d 2023-12-25 00:00:00 -> 2023-12-26 00:00:00)\n"
     ]
    },
    {
     "name": "stdout",
     "output_type": "stream",
     "text": [
      "Fetching data for: 2023-12-25\n",
      "  -> No data found for 2023-12-25.\n",
      "Fetching data for: 2023-12-26\n",
      "Fetching data for: 2023-12-27\n",
      "Fetching data for: 2023-12-28\n",
      "Fetching data for: 2023-12-29\n"
     ]
    },
    {
     "name": "stderr",
     "output_type": "stream",
     "text": [
      "$SPY: possibly delisted; no price data found  (1d 2024-01-01 00:00:00 -> 2024-01-02 00:00:00)\n"
     ]
    },
    {
     "name": "stdout",
     "output_type": "stream",
     "text": [
      "Fetching data for: 2024-01-01\n",
      "  -> No data found for 2024-01-01.\n",
      "Fetching data for: 2024-01-02\n",
      "Fetching data for: 2024-01-03\n",
      "Fetching data for: 2024-01-04\n",
      "Fetching data for: 2024-01-05\n",
      "Fetching data for: 2024-01-08\n",
      "Fetching data for: 2024-01-09\n",
      "Fetching data for: 2024-01-10\n",
      "Fetching data for: 2024-01-11\n",
      "Fetching data for: 2024-01-12\n"
     ]
    },
    {
     "name": "stderr",
     "output_type": "stream",
     "text": [
      "$SPY: possibly delisted; no price data found  (1d 2024-01-15 00:00:00 -> 2024-01-16 00:00:00)\n"
     ]
    },
    {
     "name": "stdout",
     "output_type": "stream",
     "text": [
      "Fetching data for: 2024-01-15\n",
      "  -> No data found for 2024-01-15.\n",
      "Fetching data for: 2024-01-16\n",
      "Fetching data for: 2024-01-17\n",
      "Fetching data for: 2024-01-18\n",
      "Fetching data for: 2024-01-19\n",
      "Fetching data for: 2024-01-22\n",
      "Fetching data for: 2024-01-23\n",
      "Fetching data for: 2024-01-24\n",
      "Fetching data for: 2024-01-25\n",
      "Fetching data for: 2024-01-26\n",
      "Fetching data for: 2024-01-29\n",
      "Fetching data for: 2024-01-30\n",
      "Fetching data for: 2024-01-31\n",
      "Fetching data for: 2024-02-01\n",
      "Fetching data for: 2024-02-02\n",
      "Fetching data for: 2024-02-05\n",
      "Fetching data for: 2024-02-06\n",
      "Fetching data for: 2024-02-07\n",
      "Fetching data for: 2024-02-08\n",
      "Fetching data for: 2024-02-09\n",
      "Fetching data for: 2024-02-12\n",
      "Fetching data for: 2024-02-13\n",
      "Fetching data for: 2024-02-14\n",
      "Fetching data for: 2024-02-15\n",
      "Fetching data for: 2024-02-16\n"
     ]
    },
    {
     "name": "stderr",
     "output_type": "stream",
     "text": [
      "$SPY: possibly delisted; no price data found  (1d 2024-02-19 00:00:00 -> 2024-02-20 00:00:00)\n"
     ]
    },
    {
     "name": "stdout",
     "output_type": "stream",
     "text": [
      "Fetching data for: 2024-02-19\n",
      "  -> No data found for 2024-02-19.\n",
      "Fetching data for: 2024-02-20\n",
      "Fetching data for: 2024-02-21\n",
      "Fetching data for: 2024-02-22\n",
      "Fetching data for: 2024-02-23\n",
      "Fetching data for: 2024-02-26\n",
      "Fetching data for: 2024-02-27\n",
      "Fetching data for: 2024-02-28\n",
      "Fetching data for: 2024-02-29\n",
      "Fetching data for: 2024-03-01\n",
      "Fetching data for: 2024-03-04\n",
      "Fetching data for: 2024-03-05\n",
      "Fetching data for: 2024-03-06\n",
      "Fetching data for: 2024-03-07\n",
      "Fetching data for: 2024-03-08\n",
      "Fetching data for: 2024-03-11\n",
      "Fetching data for: 2024-03-12\n",
      "Fetching data for: 2024-03-13\n",
      "Fetching data for: 2024-03-14\n",
      "Fetching data for: 2024-03-15\n",
      "Fetching data for: 2024-03-18\n",
      "Fetching data for: 2024-03-19\n",
      "Fetching data for: 2024-03-20\n",
      "Fetching data for: 2024-03-21\n",
      "Fetching data for: 2024-03-22\n",
      "Fetching data for: 2024-03-25\n",
      "Fetching data for: 2024-03-26\n",
      "Fetching data for: 2024-03-27\n",
      "Fetching data for: 2024-03-28\n"
     ]
    },
    {
     "name": "stderr",
     "output_type": "stream",
     "text": [
      "$SPY: possibly delisted; no price data found  (1d 2024-03-29 00:00:00 -> 2024-03-30 00:00:00)\n"
     ]
    },
    {
     "name": "stdout",
     "output_type": "stream",
     "text": [
      "Fetching data for: 2024-03-29\n",
      "  -> No data found for 2024-03-29.\n",
      "Fetching data for: 2024-04-01\n",
      "Fetching data for: 2024-04-02\n",
      "Fetching data for: 2024-04-03\n",
      "Fetching data for: 2024-04-04\n",
      "Fetching data for: 2024-04-05\n",
      "Fetching data for: 2024-04-08\n",
      "Fetching data for: 2024-04-09\n",
      "Fetching data for: 2024-04-10\n",
      "Fetching data for: 2024-04-11\n",
      "Fetching data for: 2024-04-12\n",
      "Fetching data for: 2024-04-15\n",
      "Fetching data for: 2024-04-16\n",
      "Fetching data for: 2024-04-17\n",
      "Fetching data for: 2024-04-18\n",
      "Fetching data for: 2024-04-19\n",
      "Fetching data for: 2024-04-22\n",
      "Fetching data for: 2024-04-23\n",
      "Fetching data for: 2024-04-24\n",
      "Fetching data for: 2024-04-25\n",
      "Fetching data for: 2024-04-26\n",
      "Fetching data for: 2024-04-29\n",
      "Fetching data for: 2024-04-30\n",
      "Fetching data for: 2024-05-01\n",
      "Fetching data for: 2024-05-02\n",
      "Fetching data for: 2024-05-03\n",
      "Fetching data for: 2024-05-06\n",
      "Fetching data for: 2024-05-07\n",
      "Fetching data for: 2024-05-08\n",
      "Fetching data for: 2024-05-09\n",
      "Fetching data for: 2024-05-10\n",
      "Fetching data for: 2024-05-13\n",
      "Fetching data for: 2024-05-14\n",
      "Fetching data for: 2024-05-15\n",
      "Fetching data for: 2024-05-16\n",
      "Fetching data for: 2024-05-17\n",
      "Fetching data for: 2024-05-20\n",
      "Fetching data for: 2024-05-21\n",
      "Fetching data for: 2024-05-22\n",
      "Fetching data for: 2024-05-23\n",
      "Fetching data for: 2024-05-24\n"
     ]
    },
    {
     "name": "stderr",
     "output_type": "stream",
     "text": [
      "$SPY: possibly delisted; no price data found  (1d 2024-05-27 00:00:00 -> 2024-05-28 00:00:00)\n"
     ]
    },
    {
     "name": "stdout",
     "output_type": "stream",
     "text": [
      "Fetching data for: 2024-05-27\n",
      "  -> No data found for 2024-05-27.\n",
      "Fetching data for: 2024-05-28\n",
      "Fetching data for: 2024-05-29\n",
      "Fetching data for: 2024-05-30\n",
      "Fetching data for: 2024-05-31\n",
      "Fetching data for: 2024-06-03\n",
      "Fetching data for: 2024-06-04\n",
      "Fetching data for: 2024-06-05\n",
      "Fetching data for: 2024-06-06\n",
      "Fetching data for: 2024-06-07\n",
      "Fetching data for: 2024-06-10\n",
      "Fetching data for: 2024-06-11\n",
      "Fetching data for: 2024-06-12\n",
      "Fetching data for: 2024-06-13\n",
      "Fetching data for: 2024-06-14\n",
      "Fetching data for: 2024-06-17\n",
      "Fetching data for: 2024-06-18\n"
     ]
    },
    {
     "name": "stderr",
     "output_type": "stream",
     "text": [
      "$SPY: possibly delisted; no price data found  (1d 2024-06-19 00:00:00 -> 2024-06-20 00:00:00)\n"
     ]
    },
    {
     "name": "stdout",
     "output_type": "stream",
     "text": [
      "Fetching data for: 2024-06-19\n",
      "  -> No data found for 2024-06-19.\n",
      "Fetching data for: 2024-06-20\n",
      "Fetching data for: 2024-06-21\n",
      "Fetching data for: 2024-06-24\n",
      "Fetching data for: 2024-06-25\n",
      "Fetching data for: 2024-06-26\n",
      "Fetching data for: 2024-06-27\n",
      "Fetching data for: 2024-06-28\n",
      "Fetching data for: 2024-07-01\n",
      "Fetching data for: 2024-07-02\n",
      "Fetching data for: 2024-07-03\n"
     ]
    },
    {
     "name": "stderr",
     "output_type": "stream",
     "text": [
      "$SPY: possibly delisted; no price data found  (1d 2024-07-04 00:00:00 -> 2024-07-05 00:00:00)\n"
     ]
    },
    {
     "name": "stdout",
     "output_type": "stream",
     "text": [
      "Fetching data for: 2024-07-04\n",
      "  -> No data found for 2024-07-04.\n",
      "Fetching data for: 2024-07-05\n",
      "Fetching data for: 2024-07-08\n",
      "Fetching data for: 2024-07-09\n",
      "Fetching data for: 2024-07-10\n",
      "Fetching data for: 2024-07-11\n",
      "Fetching data for: 2024-07-12\n",
      "Fetching data for: 2024-07-15\n",
      "Fetching data for: 2024-07-16\n",
      "Fetching data for: 2024-07-17\n",
      "Fetching data for: 2024-07-18\n",
      "Fetching data for: 2024-07-19\n",
      "Fetching data for: 2024-07-22\n",
      "Fetching data for: 2024-07-23\n",
      "Fetching data for: 2024-07-24\n",
      "Fetching data for: 2024-07-25\n",
      "Fetching data for: 2024-07-26\n",
      "Fetching data for: 2024-07-29\n",
      "Fetching data for: 2024-07-30\n",
      "Fetching data for: 2024-07-31\n",
      "Fetching data for: 2024-08-01\n",
      "Fetching data for: 2024-08-02\n",
      "Fetching data for: 2024-08-05\n",
      "Fetching data for: 2024-08-06\n",
      "Fetching data for: 2024-08-07\n",
      "Fetching data for: 2024-08-08\n",
      "Fetching data for: 2024-08-09\n",
      "Fetching data for: 2024-08-12\n",
      "Fetching data for: 2024-08-13\n",
      "Fetching data for: 2024-08-14\n",
      "Fetching data for: 2024-08-15\n",
      "Fetching data for: 2024-08-16\n",
      "Fetching data for: 2024-08-19\n",
      "Fetching data for: 2024-08-20\n",
      "Fetching data for: 2024-08-21\n",
      "Fetching data for: 2024-08-22\n",
      "Fetching data for: 2024-08-23\n",
      "Fetching data for: 2024-08-26\n",
      "Fetching data for: 2024-08-27\n",
      "Fetching data for: 2024-08-28\n",
      "Fetching data for: 2024-08-29\n",
      "Fetching data for: 2024-08-30\n"
     ]
    },
    {
     "name": "stderr",
     "output_type": "stream",
     "text": [
      "$SPY: possibly delisted; no price data found  (1d 2024-09-02 00:00:00 -> 2024-09-03 00:00:00)\n"
     ]
    },
    {
     "name": "stdout",
     "output_type": "stream",
     "text": [
      "Fetching data for: 2024-09-02\n",
      "  -> No data found for 2024-09-02.\n",
      "Fetching data for: 2024-09-03\n",
      "Fetching data for: 2024-09-04\n",
      "Fetching data for: 2024-09-05\n",
      "Fetching data for: 2024-09-06\n",
      "Fetching data for: 2024-09-09\n",
      "Fetching data for: 2024-09-10\n",
      "Fetching data for: 2024-09-11\n",
      "Fetching data for: 2024-09-12\n",
      "Fetching data for: 2024-09-13\n",
      "Fetching data for: 2024-09-16\n",
      "Fetching data for: 2024-09-17\n",
      "Fetching data for: 2024-09-18\n",
      "Fetching data for: 2024-09-19\n",
      "Fetching data for: 2024-09-20\n",
      "Fetching data for: 2024-09-23\n",
      "Fetching data for: 2024-09-24\n",
      "Fetching data for: 2024-09-25\n",
      "Fetching data for: 2024-09-26\n",
      "Fetching data for: 2024-09-27\n",
      "Fetching data for: 2024-09-30\n",
      "Fetching data for: 2024-10-01\n",
      "Fetching data for: 2024-10-02\n",
      "Fetching data for: 2024-10-03\n",
      "Fetching data for: 2024-10-04\n",
      "Fetching data for: 2024-10-07\n",
      "Fetching data for: 2024-10-08\n",
      "Fetching data for: 2024-10-09\n",
      "Fetching data for: 2024-10-10\n",
      "Fetching data for: 2024-10-11\n",
      "Fetching data for: 2024-10-14\n",
      "Fetching data for: 2024-10-15\n",
      "Fetching data for: 2024-10-16\n",
      "Fetching data for: 2024-10-17\n",
      "Fetching data for: 2024-10-18\n",
      "Fetching data for: 2024-10-21\n",
      "Fetching data for: 2024-10-22\n",
      "Fetching data for: 2024-10-23\n",
      "Fetching data for: 2024-10-24\n",
      "Fetching data for: 2024-10-25\n",
      "Fetching data for: 2024-10-28\n",
      "Fetching data for: 2024-10-29\n",
      "Fetching data for: 2024-10-30\n",
      "Fetching data for: 2024-10-31\n",
      "Fetching data for: 2024-11-01\n",
      "Fetching data for: 2024-11-04\n",
      "Fetching data for: 2024-11-05\n",
      "Fetching data for: 2024-11-06\n",
      "Fetching data for: 2024-11-07\n",
      "Fetching data for: 2024-11-08\n",
      "Fetching data for: 2024-11-11\n",
      "Fetching data for: 2024-11-12\n",
      "Fetching data for: 2024-11-13\n",
      "Fetching data for: 2024-11-14\n",
      "Fetching data for: 2024-11-15\n",
      "Fetching data for: 2024-11-18\n",
      "Fetching data for: 2024-11-19\n",
      "Fetching data for: 2024-11-20\n",
      "Fetching data for: 2024-11-21\n",
      "Fetching data for: 2024-11-22\n",
      "Fetching data for: 2024-11-25\n",
      "Fetching data for: 2024-11-26\n",
      "Fetching data for: 2024-11-27\n"
     ]
    },
    {
     "name": "stderr",
     "output_type": "stream",
     "text": [
      "$SPY: possibly delisted; no price data found  (1d 2024-11-28 00:00:00 -> 2024-11-29 00:00:00)\n"
     ]
    },
    {
     "name": "stdout",
     "output_type": "stream",
     "text": [
      "Fetching data for: 2024-11-28\n",
      "  -> No data found for 2024-11-28.\n",
      "Fetching data for: 2024-11-29\n",
      "Fetching data for: 2024-12-02\n",
      "Fetching data for: 2024-12-03\n",
      "Fetching data for: 2024-12-04\n",
      "Fetching data for: 2024-12-05\n",
      "Fetching data for: 2024-12-06\n",
      "Fetching data for: 2024-12-09\n",
      "Fetching data for: 2024-12-10\n",
      "Fetching data for: 2024-12-11\n",
      "Fetching data for: 2024-12-12\n",
      "Fetching data for: 2024-12-13\n",
      "Fetching data for: 2024-12-16\n",
      "Fetching data for: 2024-12-17\n",
      "Fetching data for: 2024-12-18\n",
      "Fetching data for: 2024-12-19\n",
      "Fetching data for: 2024-12-20\n",
      "Fetching data for: 2024-12-23\n",
      "Fetching data for: 2024-12-24\n"
     ]
    },
    {
     "name": "stderr",
     "output_type": "stream",
     "text": [
      "$SPY: possibly delisted; no price data found  (1d 2024-12-25 00:00:00 -> 2024-12-26 00:00:00)\n"
     ]
    },
    {
     "name": "stdout",
     "output_type": "stream",
     "text": [
      "Fetching data for: 2024-12-25\n",
      "  -> No data found for 2024-12-25.\n",
      "Fetching data for: 2024-12-26\n",
      "Fetching data for: 2024-12-27\n",
      "Fetching data for: 2024-12-30\n",
      "Fetching data for: 2024-12-31\n",
      "\n",
      "Combining all data into a single DataFrame...\n",
      "Saving data to spy_options_historical_2023-01-01_to_2024-12-31.csv...\n",
      "Data preparation complete!\n"
     ]
    }
   ],
   "source": [
    "def get_options_data_for_day(TICKER_SYMBOL, START_DATE) :\n",
    "    ticker = yf.Ticker(TICKER_SYMBOL)\n",
    "    hist = ticker.history(start= START_DATE , end= START_DATE +timedelta(days=1))\n",
    "    if hist.empty:\n",
    "        return None \n",
    "\n",
    "    underlying_price = hist['Close'].iloc[0]\n",
    "    quote_date = hist.index[0].normalize()\n",
    "\n",
    "    try: \n",
    "        expirations = ticker.options\n",
    "    except IndexError: \n",
    "        return None\n",
    "\n",
    "    all_options_list = []\n",
    "    for expiry in expirations:\n",
    "        try:\n",
    "            opt_chain = ticker.option_chain(expiry)\n",
    "            calls = opt_chain.calls\n",
    "            calls['option_type'] = 'C'\n",
    "            puts = opt_chain.puts\n",
    "            puts['option_type'] = 'P'\n",
    "            all_options_list.extend([calls, puts])\n",
    "        except (IndexError, ValueError, TypeError): # Handle various errors yfinance can throw\n",
    "            continue\n",
    "            \n",
    "    if not all_options_list:\n",
    "        return None\n",
    "        \n",
    "    full_chain_df = pd.concat(all_options_list)\n",
    "    full_chain_df['quote_date'] = quote_date\n",
    "    full_chain_df['underlying_price'] = underlying_price\n",
    "    full_chain_df['expiration'] = pd.to_datetime(full_chain_df['contractSymbol'].str[len(TICKER_SYMBOL):len(TICKER_SYMBOL)+6], format='%y%m%d')\n",
    "    \n",
    "    required_columns = ['quote_date', 'expiration', 'strike', 'option_type', 'bid', 'ask', 'underlying_price']\n",
    "    return full_chain_df[required_columns]\n",
    "\n",
    "\n",
    "def main():\n",
    "    print(\"Starting historical data acquisition...\")\n",
    "    master_df = []\n",
    "    \n",
    "    # Create a range of business days for the backtest period\n",
    "    date_range = pd.bdate_range(start=START_DATE, end=END_DATE)\n",
    "    \n",
    "    for date in date_range:\n",
    "        print(f\"Fetching data for: {date.strftime('%Y-%m-%d')}\")\n",
    "        try:\n",
    "            daily_data = get_options_data_for_day(TICKER_SYMBOL, date)\n",
    "            if daily_data is not None and not daily_data.empty:\n",
    "                master_df.append(daily_data)\n",
    "            else:\n",
    "                print(f\"  -> No data found for {date.strftime('%Y-%m-%d')}.\")\n",
    "        except Exception as e:\n",
    "            print(f\"  -> An error occurred for {date.strftime('%Y-%m-%d')}: {e}\")\n",
    "\n",
    "    if not master_df:\n",
    "        print(\"\\nNo data could be downloaded. Exiting.\")\n",
    "        return\n",
    "\n",
    "    print(\"\\nCombining all data into a single DataFrame...\")\n",
    "    final_df = pd.concat(master_df)\n",
    "    \n",
    "    # Clean final data\n",
    "    final_df = final_df[(final_df['bid'] > 0) & (final_df['ask'] > 0)].copy()\n",
    "    \n",
    "    print(f\"Saving data to {OUTPUT_CSV_FILE}...\")\n",
    "    final_df.to_csv(OUTPUT_CSV_FILE, index=False)\n",
    "    print(\"Data preparation complete!\")\n",
    "\n",
    "if __name__ == \"__main__\":\n",
    "    main()"
   ]
  },
  {
   "cell_type": "code",
   "execution_count": null,
   "id": "87b1ff33-9ef4-4a0e-8db2-8021bfa9e3cb",
   "metadata": {},
   "outputs": [],
   "source": []
  }
 ],
 "metadata": {
  "kernelspec": {
   "display_name": "Python 3 (ipykernel)",
   "language": "python",
   "name": "python3"
  },
  "language_info": {
   "codemirror_mode": {
    "name": "ipython",
    "version": 3
   },
   "file_extension": ".py",
   "mimetype": "text/x-python",
   "name": "python",
   "nbconvert_exporter": "python",
   "pygments_lexer": "ipython3",
   "version": "3.12.4"
  }
 },
 "nbformat": 4,
 "nbformat_minor": 5
}
